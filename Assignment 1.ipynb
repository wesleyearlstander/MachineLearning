{
 "cells": [
  {
   "cell_type": "code",
   "execution_count": 31,
   "metadata": {},
   "outputs": [],
   "source": [
    "import numpy as np\n",
    "import matplotlib.pyplot as plt"
   ]
  },
  {
   "cell_type": "markdown",
   "metadata": {},
   "source": [
    "# Question 1"
   ]
  },
  {
   "cell_type": "code",
   "execution_count": 2,
   "metadata": {},
   "outputs": [],
   "source": [
    "def load_data(train_data_loc='knn_training_data.txt', \n",
    "              test_data_loc='knn_testing_data.txt',\n",
    "              delimiter=',',\n",
    "              skiprows=0):\n",
    "    data_test = np.loadtxt(test_data_loc, delimiter=delimiter, skiprows=skiprows)\n",
    "    data_train = np.loadtxt(train_data_loc, delimiter=delimiter, skiprows=skiprows)\n",
    "\n",
    "    x_test = data_test[:,:-1]\n",
    "    y_test = data_test[:,-1:].astype(np.int)\n",
    "    \n",
    "    x_train = data_train[:,:-1]\n",
    "    y_train = data_train[:,-1:].astype(np.int)\n",
    "    \n",
    "    return x_train, y_train, x_test, y_test"
   ]
  },
  {
   "cell_type": "code",
   "execution_count": 4,
   "metadata": {},
   "outputs": [],
   "source": [
    "x_train, y_train, x_test, y_test = load_data()"
   ]
  },
  {
   "cell_type": "code",
   "execution_count": 5,
   "metadata": {},
   "outputs": [],
   "source": [
    "def error (y_actual, y_predicted):\n",
    "    error = 0.0\n",
    "    for i in range(len(y_predicted)):\n",
    "        if y_actual[i] != y_predicted[i]:\n",
    "            error += (float)(1/len(y_predicted))\n",
    "    return error"
   ]
  },
  {
   "cell_type": "code",
   "execution_count": 6,
   "metadata": {},
   "outputs": [],
   "source": [
    "def KNN(x, y, K):\n",
    "    N = x.shape[0]\n",
    "    a = y[:,0]\n",
    "    d = np.zeros((N,))\n",
    "    pred = np.zeros((N,), dtype=np.int)\n",
    "    for i in range(N):\n",
    "        d = np.sqrt(np.sum((x-x[i])**2, axis=1))\n",
    "        p = np.zeros((K,), dtype=np.int)\n",
    "        for j in range(K):\n",
    "            p[j] = np.argmin(d, axis=0)\n",
    "            d[p[j]] = 1000000000\n",
    "        temp = 0.0\n",
    "        for j in range(K):\n",
    "            temp += (float)(a[p][j])/(float)(K)\n",
    "        pred[i] = round(temp)\n",
    "    return pred, a\n",
    "\n",
    "def KNNT(x, y, K, testx, testy):\n",
    "    N = testx.shape[0]\n",
    "    n = x.shape[0]\n",
    "    a = testy[:,0]\n",
    "    d = np.zeros((n,))\n",
    "    pred = np.zeros((N,), dtype=np.int)\n",
    "    for i in range(N):\n",
    "        d = np.sqrt(np.sum((x-testx[i])**2, axis=1))\n",
    "        p = np.zeros((K,), dtype=np.int)\n",
    "        for j in range(K):\n",
    "            p[j] = np.argmin(d, axis=0)\n",
    "            d[p[j]] = 1000000000\n",
    "        temp = 0.0\n",
    "        for j in range(K):\n",
    "            temp += (float)(a[p][j])/(float)(K)\n",
    "        pred[i] = round(temp)\n",
    "    return pred, a"
   ]
  },
  {
   "cell_type": "code",
   "execution_count": 7,
   "metadata": {},
   "outputs": [],
   "source": [
    "def predict(x, y, K, value):\n",
    "    N = x.shape[0]\n",
    "    a = y[:,0]\n",
    "    d = np.sqrt(np.sum((x-value)**2, axis=1))\n",
    "    p = np.zeros((K,), dtype=np.int)\n",
    "    for j in range(K):\n",
    "        p[j] = np.argmin(d, axis=0)\n",
    "        print(p[j] + 1, d[p[j]], a[p[j]])\n",
    "        d[p[j]] = 1000000000\n",
    "    temp = 0.0\n",
    "    for j in range(K):\n",
    "        temp += (float)(a[p][j])/(float)(K)\n",
    "    pred = round(temp)\n",
    "    return pred"
   ]
  },
  {
   "cell_type": "code",
   "execution_count": 8,
   "metadata": {},
   "outputs": [
    {
     "name": "stdout",
     "output_type": "stream",
     "text": [
      "[ 5.03 -4.97  3.5 ]\n",
      "11 1.752027397046062 0\n",
      "0\n"
     ]
    }
   ],
   "source": [
    "print(x_test[6]) #Question 1.1\n",
    "print(predict(x_train, y_train, 1, x_test[6]))"
   ]
  },
  {
   "cell_type": "code",
   "execution_count": 9,
   "metadata": {},
   "outputs": [
    {
     "name": "stdout",
     "output_type": "stream",
     "text": [
      "[-3.11 -6.84 10.74]\n",
      "28 1.6488177582740906 1\n",
      "25 1.7365195075207192 1\n",
      "27 2.5044160996128424 1\n",
      "1\n"
     ]
    }
   ],
   "source": [
    "print(x_test[26]) #Question 1.2\n",
    "print(predict(x_train, y_train, 3, x_test[26]))"
   ]
  },
  {
   "cell_type": "code",
   "execution_count": 10,
   "metadata": {},
   "outputs": [
    {
     "name": "stdout",
     "output_type": "stream",
     "text": [
      "[-1.62 -6.34  4.66]\n",
      "36 1.0435516278555652 1\n",
      "39 1.542335890783846 1\n",
      "29 2.808006410249093 1\n",
      "30 3.9457065273534977 1\n",
      "4 4.538788384580184 0\n",
      "1\n"
     ]
    }
   ],
   "source": [
    "print(x_test[30]) #Question 1.3\n",
    "print(predict(x_train, y_train, 5, x_test[30]))"
   ]
  },
  {
   "cell_type": "code",
   "execution_count": 11,
   "metadata": {},
   "outputs": [
    {
     "name": "stdout",
     "output_type": "stream",
     "text": [
      "1 0.0 0.025\n",
      "3 0.0 0.025\n",
      "5 0.05 0.05\n",
      "7 0.05 0.05\n",
      "9 0.05 0.05\n",
      "11 0.05 0.1\n",
      "13 0.07500000000000001 0.025\n"
     ]
    }
   ],
   "source": [
    "for i in range(7): #Question 1.4\n",
    "    index = i*2+1\n",
    "    pred, a = KNN(x_train, y_train, index)\n",
    "    predT, aT = KNNT(x_train, y_train, index, x_test, y_test)\n",
    "    print(index, error(pred,a), error(predT,aT))"
   ]
  },
  {
   "cell_type": "markdown",
   "metadata": {},
   "source": [
    "# Question 2"
   ]
  },
  {
   "cell_type": "markdown",
   "metadata": {},
   "source": [
    "2.1 hΘ (x) is in the range of 0 to 1 and if β is negative or 0 then the classifier cannot learn from an arbitrary data set. This is because if β is 0 then the classifier will always return the same label and if β is negative then the label will be inverted."
   ]
  },
  {
   "cell_type": "code",
   "execution_count": 24,
   "metadata": {},
   "outputs": [],
   "source": [
    "def append_ones(x):\n",
    "    x = np.hstack((np.ones((x.shape[0],1)), x))\n",
    "    return x"
   ]
  },
  {
   "cell_type": "code",
   "execution_count": 27,
   "metadata": {},
   "outputs": [],
   "source": [
    "def f(x, theta):\n",
    "    y = 1.0/(1.0 + np.exp(-np.dot(x, theta)))\n",
    "    return y"
   ]
  },
  {
   "cell_type": "code",
   "execution_count": 50,
   "metadata": {},
   "outputs": [],
   "source": [
    "x_trainL = append_ones(x_train)\n",
    "x_testL = append_ones(x_test)"
   ]
  },
  {
   "cell_type": "code",
   "execution_count": 44,
   "metadata": {},
   "outputs": [],
   "source": [
    "theta = [0.79261831, -0.69082163,-0.31848938, -0.39302498]"
   ]
  },
  {
   "cell_type": "code",
   "execution_count": 55,
   "metadata": {},
   "outputs": [
    {
     "name": "stdout",
     "output_type": "stream",
     "text": [
      "5 0.18972826002763396 0\n",
      "10 0.034479732860128634 0\n",
      "15 0.04744110589079543 0\n",
      "20 0.11518437676194374 0\n",
      "25 0.8454424444204471 1\n",
      "30 0.9030271807023876 1\n",
      "35 0.8600638524517186 1\n",
      "40 0.93985501491761 1\n"
     ]
    }
   ],
   "source": [
    "for i in range(8): #Question 2.3\n",
    "    index = i*5+4\n",
    "    h = f(x_testL[index], theta)\n",
    "    print(index+1, h, (int)(h > 0.5))"
   ]
  },
  {
   "cell_type": "code",
   "execution_count": null,
   "metadata": {},
   "outputs": [],
   "source": []
  }
 ],
 "metadata": {
  "kernelspec": {
   "display_name": "Python 3",
   "language": "python",
   "name": "python3"
  },
  "language_info": {
   "codemirror_mode": {
    "name": "ipython",
    "version": 3
   },
   "file_extension": ".py",
   "mimetype": "text/x-python",
   "name": "python",
   "nbconvert_exporter": "python",
   "pygments_lexer": "ipython3",
   "version": "3.6.9"
  }
 },
 "nbformat": 4,
 "nbformat_minor": 2
}
